{
 "cells": [
  {
   "cell_type": "code",
   "execution_count": 1,
   "metadata": {},
   "outputs": [],
   "source": [
    "import pandas as pd\n",
    "import numpy as np\n",
    "from sklearn.feature_extraction.text import TfidfVectorizer\n",
    "from sklearn.metrics.pairwise import linear_kernel\n",
    "from sklearn import metrics\n",
    "import dill as pickle"
   ]
  },
  {
   "cell_type": "code",
   "execution_count": 2,
   "metadata": {},
   "outputs": [],
   "source": [
    "df_products= pd.read_csv(\"newUpdated.csv\")"
   ]
  },
  {
   "cell_type": "code",
   "execution_count": 3,
   "metadata": {},
   "outputs": [
    {
     "data": {
      "text/html": [
       "<div>\n",
       "<style scoped>\n",
       "    .dataframe tbody tr th:only-of-type {\n",
       "        vertical-align: middle;\n",
       "    }\n",
       "\n",
       "    .dataframe tbody tr th {\n",
       "        vertical-align: top;\n",
       "    }\n",
       "\n",
       "    .dataframe thead th {\n",
       "        text-align: right;\n",
       "    }\n",
       "</style>\n",
       "<table border=\"1\" class=\"dataframe\">\n",
       "  <thead>\n",
       "    <tr style=\"text-align: right;\">\n",
       "      <th></th>\n",
       "      <th>name</th>\n",
       "      <th>image</th>\n",
       "      <th>description</th>\n",
       "      <th>brand</th>\n",
       "      <th>category</th>\n",
       "      <th>price</th>\n",
       "      <th>countInStock</th>\n",
       "      <th>rating</th>\n",
       "      <th>numReviews</th>\n",
       "    </tr>\n",
       "  </thead>\n",
       "  <tbody>\n",
       "    <tr>\n",
       "      <th>0</th>\n",
       "      <td>Airpods Wireless Bluetooth Headphones</td>\n",
       "      <td>/images/airpods.jpg</td>\n",
       "      <td>Bluetooth technology lets you connect it with ...</td>\n",
       "      <td>Apple</td>\n",
       "      <td>Electronics</td>\n",
       "      <td>89.99</td>\n",
       "      <td>10</td>\n",
       "      <td>4.5</td>\n",
       "      <td>12</td>\n",
       "    </tr>\n",
       "    <tr>\n",
       "      <th>1</th>\n",
       "      <td>iPhone 11 Pro 256GB Memory</td>\n",
       "      <td>/images/phone.jpg</td>\n",
       "      <td>Introducing the iPhone 11 Pro. A transformativ...</td>\n",
       "      <td>Apple</td>\n",
       "      <td>Electronics</td>\n",
       "      <td>599.99</td>\n",
       "      <td>7</td>\n",
       "      <td>4.0</td>\n",
       "      <td>8</td>\n",
       "    </tr>\n",
       "    <tr>\n",
       "      <th>2</th>\n",
       "      <td>Cannon EOS 80D DSLR Camera</td>\n",
       "      <td>/images/camera.jpg</td>\n",
       "      <td>Characterized by versatile imaging specs, the ...</td>\n",
       "      <td>Cannon</td>\n",
       "      <td>Electronics</td>\n",
       "      <td>929.99</td>\n",
       "      <td>5</td>\n",
       "      <td>3.0</td>\n",
       "      <td>12</td>\n",
       "    </tr>\n",
       "    <tr>\n",
       "      <th>3</th>\n",
       "      <td>Sony Playstation 4 Pro White Version</td>\n",
       "      <td>/images/playstation.jpg</td>\n",
       "      <td>The ultimate home entertainment center starts ...</td>\n",
       "      <td>Sony</td>\n",
       "      <td>Electronics</td>\n",
       "      <td>399.99</td>\n",
       "      <td>11</td>\n",
       "      <td>5.0</td>\n",
       "      <td>12</td>\n",
       "    </tr>\n",
       "    <tr>\n",
       "      <th>4</th>\n",
       "      <td>Logitech G-Series Gaming Mouse</td>\n",
       "      <td>/images/mouse.jpg</td>\n",
       "      <td>Get a better handle on your games with this Lo...</td>\n",
       "      <td>Logitech</td>\n",
       "      <td>Electronics</td>\n",
       "      <td>49.99</td>\n",
       "      <td>7</td>\n",
       "      <td>3.5</td>\n",
       "      <td>10</td>\n",
       "    </tr>\n",
       "  </tbody>\n",
       "</table>\n",
       "</div>"
      ],
      "text/plain": [
       "                                    name                    image  \\\n",
       "0  Airpods Wireless Bluetooth Headphones      /images/airpods.jpg   \n",
       "1             iPhone 11 Pro 256GB Memory        /images/phone.jpg   \n",
       "2             Cannon EOS 80D DSLR Camera       /images/camera.jpg   \n",
       "3   Sony Playstation 4 Pro White Version  /images/playstation.jpg   \n",
       "4         Logitech G-Series Gaming Mouse        /images/mouse.jpg   \n",
       "\n",
       "                                         description     brand     category  \\\n",
       "0  Bluetooth technology lets you connect it with ...     Apple  Electronics   \n",
       "1  Introducing the iPhone 11 Pro. A transformativ...     Apple  Electronics   \n",
       "2  Characterized by versatile imaging specs, the ...    Cannon  Electronics   \n",
       "3  The ultimate home entertainment center starts ...      Sony  Electronics   \n",
       "4  Get a better handle on your games with this Lo...  Logitech  Electronics   \n",
       "\n",
       "    price  countInStock  rating  numReviews  \n",
       "0   89.99            10     4.5          12  \n",
       "1  599.99             7     4.0           8  \n",
       "2  929.99             5     3.0          12  \n",
       "3  399.99            11     5.0          12  \n",
       "4   49.99             7     3.5          10  "
      ]
     },
     "execution_count": 3,
     "metadata": {},
     "output_type": "execute_result"
    }
   ],
   "source": [
    "df_products.head()"
   ]
  },
  {
   "cell_type": "code",
   "execution_count": 4,
   "metadata": {},
   "outputs": [
    {
     "data": {
      "text/plain": [
       "0     Bluetooth technology lets you connect it with ...\n",
       "1     Introducing the iPhone 11 Pro. A transformativ...\n",
       "2     Characterized by versatile imaging specs, the ...\n",
       "3     The ultimate home entertainment center starts ...\n",
       "4     Get a better handle on your games with this Lo...\n",
       "                            ...                        \n",
       "95    Rapoo H6020 Bluetooth stereo headset with 12 h...\n",
       "96    Smooth optically reflective material, Bottom m...\n",
       "97    21.5” Full HD monitor with 1ms (GTG) quick res...\n",
       "98    Acer ED323QUR Gaming Monitor 32\" WQHD LED 144H...\n",
       "99    2-inch WQHD (2560 x 1440) Fast IPS gaming moni...\n",
       "Name: description, Length: 100, dtype: object"
      ]
     },
     "execution_count": 4,
     "metadata": {},
     "output_type": "execute_result"
    }
   ],
   "source": [
    "df_products['description']"
   ]
  },
  {
   "cell_type": "code",
   "execution_count": 5,
   "metadata": {},
   "outputs": [],
   "source": [
    "tfidf = TfidfVectorizer(stop_words=\"english\")\n",
    "df_products['description'] = df_products['description'].fillna(\"\")\n",
    "tfidf_matrix = tfidf.fit_transform(df_products['description'])"
   ]
  },
  {
   "cell_type": "code",
   "execution_count": 6,
   "metadata": {},
   "outputs": [],
   "source": [
    "cosine_sim = linear_kernel(tfidf_matrix, tfidf_matrix)"
   ]
  },
  {
   "cell_type": "code",
   "execution_count": 7,
   "metadata": {},
   "outputs": [],
   "source": [
    "indices = pd.Series(df_products.index, index=df_products['name']).drop_duplicates()"
   ]
  },
  {
   "cell_type": "code",
   "execution_count": 11,
   "metadata": {},
   "outputs": [
    {
     "data": {
      "text/plain": [
       "7"
      ]
     },
     "execution_count": 11,
     "metadata": {},
     "output_type": "execute_result"
    }
   ],
   "source": [
    "indices['Apple iPhone 13']"
   ]
  },
  {
   "cell_type": "code",
   "execution_count": 13,
   "metadata": {},
   "outputs": [
    {
     "data": {
      "text/plain": [
       "15               Sony Alpha 7 III\n",
       "14         Apple iPad Pro 5th Gen\n",
       "21         Apple MacBook Pro 2021\n",
       "17    Samsung Galaxy S21 Ultra 5G\n",
       "18        Microsoft Surface Pro 8\n",
       "16        LG CX Series 4K OLED TV\n",
       "Name: name, dtype: object"
      ]
     },
     "execution_count": 13,
     "metadata": {},
     "output_type": "execute_result"
    }
   ],
   "source": [
    "  def get_recommendations(name, cosine_sim = cosine_sim):\n",
    "      idx = indices[name]\n",
    "      sim_scores = enumerate(cosine_sim[idx])\n",
    "      sim_scores = sorted(sim_scores, key=lambda x: x[1], reverse=True)\n",
    "      sim_scores = sim_scores[1:7]\n",
    "    \n",
    "      sim_index = [i[0] for i in sim_scores]\n",
    "  \n",
    "      y = df_products['name'].iloc[sim_index]\n",
    "      return y\n",
    "\n",
    "      \n",
    "      \n",
    "\n",
    "  get_recommendations('Apple iPhone 13')  "
   ]
  },
  {
   "cell_type": "code",
   "execution_count": 14,
   "metadata": {},
   "outputs": [],
   "source": [
    "model = {\n",
    "    'tfidf': tfidf,\n",
    "    'cosine_sim': cosine_sim,\n",
    "    'indices': indices,\n",
    "    'get_recommendations': get_recommendations,\n",
    "    'df_products': df_products\n",
    "}\n",
    "with open('model.pkl', 'wb') as f:\n",
    "    pickle.dump(model, f)"
   ]
  }
 ],
 "metadata": {
  "kernelspec": {
   "display_name": "Python 3",
   "language": "python",
   "name": "python3"
  },
  "language_info": {
   "codemirror_mode": {
    "name": "ipython",
    "version": 3
   },
   "file_extension": ".py",
   "mimetype": "text/x-python",
   "name": "python",
   "nbconvert_exporter": "python",
   "pygments_lexer": "ipython3",
   "version": "3.10.1"
  },
  "orig_nbformat": 4
 },
 "nbformat": 4,
 "nbformat_minor": 2
}
